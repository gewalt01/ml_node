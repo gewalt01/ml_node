{
 "cells": [
  {
   "cell_type": "markdown",
   "metadata": {},
   "source": [
    "# Extreme Learning Machineのメモ"
   ]
  },
  {
   "cell_type": "markdown",
   "metadata": {},
   "source": [
    "Extreme Learning Machine(ELM)はニューラルネットワークの一種です。"
   ]
  },
  {
   "cell_type": "markdown",
   "metadata": {},
   "source": [
    "## ネットワーク構造"
   ]
  },
  {
   "cell_type": "markdown",
   "metadata": {},
   "source": [
    "<img src=\"index.png\">  \n",
    "ネットワーク構造は入力層X、中間層H、出力層Yでフィードフォワード構造です。\n",
    "\n",
    "平たく言えば３層パーセプトロンと同じ構造を持ちます。\n",
    "パラメータは入力層X-中間層Y間のウェイトパラメータと中間層H-出力層Y間のウェイトパラメータがあり、それぞれ適当な乱数で初期化されます。\n",
    "なお、ELM学習において学習されるパラメータは中間層H-出力層Y間のウェイトパラメータです。"
   ]
  },
  {
   "cell_type": "markdown",
   "metadata": {},
   "source": [
    "## ELM学習"
   ]
  },
  {
   "cell_type": "markdown",
   "metadata": {},
   "source": [
    "ELM学習は最小二乗法を用いて行います. 世間一般でいうニューラルネットワークと異なりバックプロパゲーションを用いずに学習を行います.  \n",
    "ELMに置いて最小二乗法でパラメータを学習するには擬似逆行列を用いることで容易にパラメータの値を定めることができます."
   ]
  },
  {
   "cell_type": "markdown",
   "metadata": {},
   "source": [
    "$\\boldsymbol{T}=\\boldsymbol{H}\\boldsymbol{W}$  \n",
    "$\\boldsymbol{H}^*\\boldsymbol{T}=\\boldsymbol{W}$  "
   ]
  },
  {
   "cell_type": "markdown",
   "metadata": {},
   "source": [
    "## 付録"
   ]
  },
  {
   "cell_type": "markdown",
   "metadata": {},
   "source": [
    "### 擬似逆行列"
   ]
  },
  {
   "cell_type": "markdown",
   "metadata": {},
   "source": [
    "行列$\\boldsymbol{A}$に関して  \n",
    "$\\boldsymbol{A}^*=\\left(\\boldsymbol{A}^{T}\\boldsymbol{A}\\right)^{-1}\\boldsymbol{A}^{T}$のことを$\\boldsymbol{A}$の擬似逆行列と呼びます."
   ]
  },
  {
   "cell_type": "markdown",
   "metadata": {},
   "source": [
    "$\\boldsymbol{A}=\\boldsymbol{A}$  \n",
    "$\\boldsymbol{A}^{T}\\boldsymbol{A}=\\boldsymbol{A}^{T}\\boldsymbol{A}$  \n",
    "$\\left(\\boldsymbol{A}^{T}\\boldsymbol{A}\\right)^{-1}\\boldsymbol{A}^{T}\\boldsymbol{A}=\\boldsymbol{I}$  \n",
    "$\\boldsymbol{A}^{*}\\boldsymbol{A}=\\boldsymbol{I}$"
   ]
  }
 ],
 "metadata": {
  "kernelspec": {
   "display_name": "Python 3",
   "language": "python",
   "name": "python3"
  },
  "language_info": {
   "codemirror_mode": {
    "name": "ipython",
    "version": 3
   },
   "file_extension": ".py",
   "mimetype": "text/x-python",
   "name": "python",
   "nbconvert_exporter": "python",
   "pygments_lexer": "ipython3",
   "version": "3.6.5"
  }
 },
 "nbformat": 4,
 "nbformat_minor": 2
}
